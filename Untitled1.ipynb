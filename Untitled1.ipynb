{
 "nbformat": 4,
 "nbformat_minor": 0,
 "metadata": {
  "colab": {
   "provenance": [],
   "authorship_tag": "ABX9TyPmK10dE2IIjABgGzcx9vXb"
  },
  "kernelspec": {
   "name": "python3",
   "display_name": "Python 3"
  },
  "language_info": {
   "name": "python"
  }
 },
 "cells": [
  {
   "cell_type": "code",
   "source": [
    "fart\n",
    "quit()\n",
    "fart"
   ],
   "metadata": {
    "id": "Mb0AeM8sFYhs"
   },
   "execution_count": null,
   "outputs": []
  }
 ]
}